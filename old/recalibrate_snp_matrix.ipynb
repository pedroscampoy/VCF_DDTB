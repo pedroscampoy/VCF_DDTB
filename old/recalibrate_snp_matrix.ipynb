{
 "cells": [
  {
   "cell_type": "code",
   "execution_count": 1,
   "metadata": {},
   "outputs": [],
   "source": [
    "import pandas as pd\n",
    "import os"
   ]
  },
  {
   "cell_type": "code",
   "execution_count": 49,
   "metadata": {},
   "outputs": [],
   "source": [
    "pd.set_option('display.max_columns', None)"
   ]
  },
  {
   "cell_type": "code",
   "execution_count": 106,
   "metadata": {},
   "outputs": [],
   "source": [
    "dataftame = \"senora_II.tsv\"\n",
    "folder = \"./\""
   ]
  },
  {
   "cell_type": "code",
   "execution_count": 113,
   "metadata": {},
   "outputs": [
    {
     "data": {
      "text/plain": [
       "'/home/laura/DEVELOP/VCF_DDTB/old'"
      ]
     },
     "execution_count": 113,
     "metadata": {},
     "output_type": "execute_result"
    }
   ],
   "source": [
    "folder_tab = os.path.abspath(folder)\n",
    "folder_tab"
   ]
  },
  {
   "cell_type": "code",
   "execution_count": 108,
   "metadata": {},
   "outputs": [],
   "source": [
    "final_ddbb = pd.read_csv(dataftame, sep=\"\\t\",header=0)"
   ]
  },
  {
   "cell_type": "code",
   "execution_count": 109,
   "metadata": {},
   "outputs": [],
   "source": [
    "def retrieve_tabs(sample_list, folder_tab):\n",
    "    dict_tab_files = {}\n",
    "    for sample in sample_list:\n",
    "        for root, _, files in os.walk(folder_tab):\n",
    "            for name in files:\n",
    "                filename = os.path.join(root, name)\n",
    "                if (sample in filename) and filename.endswith(\".tab\"):\n",
    "                    dict_tab_files[sample] = pd.read_csv(filename, sep=\"\\t\",header=0)\n",
    "    if len(sample_list) == len(dict_tab_files.keys()):\n",
    "        return dict_tab_files\n",
    "    else:\n",
    "        print('Some tab files are missing, please make sure all samples are represented')\n",
    "        sys.exit(1)"
   ]
  },
  {
   "cell_type": "code",
   "execution_count": 110,
   "metadata": {},
   "outputs": [],
   "source": [
    "def variant_is_present(vcf_df,position):\n",
    "    if position in vcf_df.POS.tolist():\n",
    "        index_position = vcf_df.index[vcf_df.POS == position][0]\n",
    "        if vcf_df.loc[index_position,'ALT_AD'] > vcf_df.loc[index_position,'REF_AD']:\n",
    "            return \"1\"\n",
    "        else:\n",
    "            return \"0\"\n",
    "    else:\n",
    "        return \"0\""
   ]
  },
  {
   "cell_type": "code",
   "execution_count": null,
   "metadata": {},
   "outputs": [],
   "source": [
    "def recallibrate_ddbb(snp_matrix_ddbb, folder_tab):\n",
    "    \n",
    "    folder_tab = os.path.abspath(folder_tab)\n",
    "    df = snp_matrix_ddbb\n",
    "    #df = pd.read_csv(snp_matrix_ddbb, sep=\"\\t\",header=0)\n",
    "    sample_list = df.columns[3:]\n",
    "    n_samples = len(sample_list)\n",
    "    \n",
    "    all_samples_tab = retrieve_tabs(sample_list,folder_tab)\n",
    "    \n",
    "    for sample in sample_list:\n",
    "        for index, _ in df[df.N < n_samples].iterrows():\n",
    "            previous_snp = df.loc[index,sample]\n",
    "            #df.loc[index,sample] coordinates to replace\n",
    "            #all_samples_tab[sample] Dictionary with tab dataframes with all samples and variants\n",
    "            #df.iloc[index,0] First columnn = POSITION to check with function and return new 0 or 1\n",
    "            df.loc[index,sample] = variant_is_present(all_samples_tab[sample], df.iloc[index,0])\n",
    "            #Substitute previous count (N) and list of samples\n",
    "            if previous_snp == 0 and df.loc[index,sample] == 1:\n",
    "                #Reassign number of samples (colimn with index 1)\n",
    "                df.iloc[index,1] = df.iloc[index,1] + 1\n",
    "                #Reassign list of samples (colimn with index 2)\n",
    "                df.iloc[index,2] = df.iloc[index,2] + \",\" + sample\n",
    "    return df"
   ]
  },
  {
   "cell_type": "code",
   "execution_count": 111,
   "metadata": {},
   "outputs": [],
   "source": [
    "df = pd.read_csv(dataftame, sep=\"\\t\",header=0)"
   ]
  },
  {
   "cell_type": "code",
   "execution_count": null,
   "metadata": {},
   "outputs": [],
   "source": [
    "df_recal = recallibrate_ddbb(df, folder_tab)"
   ]
  },
  {
   "cell_type": "code",
   "execution_count": 112,
   "metadata": {},
   "outputs": [],
   "source": [
    "sample_list = df.columns[3:]\n",
    "n_samples = len(sample_list)"
   ]
  },
  {
   "cell_type": "code",
   "execution_count": 114,
   "metadata": {},
   "outputs": [],
   "source": [
    "all_samples_tab = retrieve_tabs(sample_list,folder_tab)"
   ]
  },
  {
   "cell_type": "code",
   "execution_count": 116,
   "metadata": {},
   "outputs": [
    {
     "data": {
      "text/plain": [
       "'0'"
      ]
     },
     "execution_count": 116,
     "metadata": {},
     "output_type": "execute_result"
    }
   ],
   "source": [
    "variant_is_present(all_samples_tab['AL10082989COL3'], 105007)"
   ]
  },
  {
   "cell_type": "code",
   "execution_count": 131,
   "metadata": {},
   "outputs": [
    {
     "name": "stdout",
     "output_type": "stream",
     "text": [
      "AL10082989COL3 21819.0 0 0\n",
      "AL10082989COL3 104915.0 1 1\n",
      "AL10082989COL3 257448.0 1 1\n",
      "AL10082989COL3 584511.0 0 1\n",
      "AL10082989COL3 684671.0 0 0\n",
      "AL10082989COL3 929094.0 0 0\n",
      "AL10082989COL3 1167492.0 0 0\n",
      "AL10082989COL3 1190017.0 0 1\n",
      "AL10082989COL3 1191135.0 1 1\n",
      "AL10082989COL3 1212076.0 1 1\n",
      "AL10082989COL3 1341044.0 1 1\n",
      "AL10082989COL3 1572851.0 0 1\n",
      "AL10082989COL3 1636733.0 1 1\n",
      "AL10082989COL3 1636742.0 1 1\n",
      "AL10082989COL3 1636918.0 0 1\n",
      "AL10082989COL3 1990919.0 1 1\n",
      "AL10082989COL3 2306306.0 1 1\n",
      "AL10082989COL3 2339719.0 1 1\n",
      "AL10082989COL3 2339726.0 1 1\n",
      "AL10082989COL3 2419142.0 1 1\n",
      "AL10082989COL3 2637459.0 1 1\n",
      "AL10082989COL3 2637502.0 1 1\n",
      "AL10082989COL3 2637507.0 1 1\n",
      "AL10082989COL3 2637520.0 1 1\n",
      "AL10082989COL3 2637523.0 1 1\n",
      "AL10082989COL3 2637541.0 1 1\n",
      "AL10082989COL3 2719800.0 0 0\n",
      "AL10082989COL3 2922984.0 1 1\n",
      "AL10082989COL3 2941477.0 1 1\n",
      "AL10082989COL3 2945167.0 1 1\n",
      "AL10082989COL3 3379731.0 1 1\n",
      "AL10082989COL3 3730896.0 1 1\n",
      "AL10082989COL3 3750417.0 1 1\n",
      "AL10082989COL3 3750421.0 1 1\n",
      "AL10082989COL3 3750805.0 0 1\n",
      "AL10082989COL3 3750808.0 0 1\n",
      "AL10082989COL3 3750812.0 0 1\n",
      "AL10082989COL3 3753116.0 1 1\n",
      "AL10082989COL3 3757052.0 1 1\n",
      "AL10082989COL3 3927793.0 0 1\n",
      "AL10082989COL3 3928892.0 0 1\n",
      "AL10082989COL3 4130711.0 1 1\n",
      "AL10105494COL0 21819.0 1 1\n",
      "AL10105494COL0 104915.0 0 1\n",
      "AL10105494COL0 257448.0 0 0\n",
      "AL10105494COL0 684671.0 1 1\n",
      "AL10105494COL0 929094.0 1 1\n",
      "AL10105494COL0 1167492.0 1 1\n",
      "AL10105494COL0 1191135.0 0 1\n",
      "AL10105494COL0 1212076.0 0 1\n",
      "AL10105494COL0 1341044.0 0 1\n",
      "AL10105494COL0 1636733.0 0 1\n",
      "AL10105494COL0 1636742.0 0 1\n",
      "AL10105494COL0 1990919.0 0 0\n",
      "AL10105494COL0 2306306.0 0 1\n",
      "AL10105494COL0 2339719.0 0 1\n",
      "AL10105494COL0 2339726.0 0 1\n",
      "AL10105494COL0 2419142.0 0 1\n",
      "AL10105494COL0 2637459.0 0 0\n",
      "AL10105494COL0 2637502.0 0 0\n",
      "AL10105494COL0 2637507.0 0 0\n",
      "AL10105494COL0 2637520.0 0 0\n",
      "AL10105494COL0 2637523.0 0 0\n",
      "AL10105494COL0 2637541.0 0 0\n",
      "AL10105494COL0 2719800.0 1 1\n",
      "AL10105494COL0 2922984.0 0 1\n",
      "AL10105494COL0 2941477.0 0 0\n",
      "AL10105494COL0 2945167.0 0 1\n",
      "AL10105494COL0 3379731.0 0 1\n",
      "AL10105494COL0 3730896.0 0 1\n",
      "AL10105494COL0 3750417.0 0 1\n",
      "AL10105494COL0 3750421.0 0 1\n",
      "AL10105494COL0 3753116.0 0 1\n",
      "AL10105494COL0 3757052.0 0 1\n",
      "AL10105494COL0 4130711.0 0 1\n"
     ]
    }
   ],
   "source": [
    "for sample in sample_list:\n",
    "    for index, _ in df[df.N < n_samples].iterrows():\n",
    "        previous_snp = df.loc[index,sample]\n",
    "        position = df.iloc[index,0]\n",
    "        #df.loc[index,sample] coordinates to replace\n",
    "        #all_samples_tab[sample] Dictionary with tab dataframes with all samples and variants\n",
    "        #df.iloc[index,0] First columnn = POSITION to check with function and return new 0 or 1\n",
    "        post_snp = int(variant_is_present(all_samples_tab[sample], df.iloc[index,0]))\n",
    "        df.loc[index,sample] = post_snp\n",
    "        print(sample, position, previous_snp, post_snp)\n",
    "        #df.loc[index,sample] = variant_is_present(all_samples_tab[sample], df.iloc[index,0])\n",
    "        #post_snp = int(post_snp)\n",
    "        #Substitute previous count (N) and list of samples\n",
    "        if previous_snp == 0 and post_snp == 1:\n",
    "            #Reassign number of samples (colimn with index 1)\n",
    "            #print (str(df.iloc[index,1] + 1))\n",
    "            df.iloc[index,1] = df.iloc[index,1] + 1\n",
    "            #Reassign list of samples (colimn with index 2)\n",
    "            #print(df.iloc[index,2] + \",\" + sample)\n",
    "            df.iloc[index,2] = df.iloc[index,2] + \",\" + sample\n",
    "        \n",
    "    "
   ]
  },
  {
   "cell_type": "code",
   "execution_count": 100,
   "metadata": {},
   "outputs": [],
   "source": [
    "#df['AL10082989COL3'][df.N < n_samples] = df_vcf['AL10082989COL3'].apply(lambda x: annotate_bed(all_samples_tab['AL10082989COL3'],x))"
   ]
  },
  {
   "cell_type": "code",
   "execution_count": null,
   "metadata": {},
   "outputs": [],
   "source": [
    "#df['index_x10'] = df.apply(lambda row: 10*row.name, axis=1)"
   ]
  },
  {
   "cell_type": "code",
   "execution_count": 134,
   "metadata": {},
   "outputs": [
    {
     "data": {
      "text/html": [
       "<div>\n",
       "<style scoped>\n",
       "    .dataframe tbody tr th:only-of-type {\n",
       "        vertical-align: middle;\n",
       "    }\n",
       "\n",
       "    .dataframe tbody tr th {\n",
       "        vertical-align: top;\n",
       "    }\n",
       "\n",
       "    .dataframe thead th {\n",
       "        text-align: right;\n",
       "    }\n",
       "</style>\n",
       "<table border=\"1\" class=\"dataframe\">\n",
       "  <thead>\n",
       "    <tr style=\"text-align: right;\">\n",
       "      <th></th>\n",
       "      <th>Position</th>\n",
       "      <th>N</th>\n",
       "      <th>Samples</th>\n",
       "      <th>AL10082989COL3</th>\n",
       "      <th>AL10105494COL0</th>\n",
       "    </tr>\n",
       "  </thead>\n",
       "  <tbody>\n",
       "  </tbody>\n",
       "</table>\n",
       "</div>"
      ],
      "text/plain": [
       "Empty DataFrame\n",
       "Columns: [Position, N, Samples, AL10082989COL3, AL10105494COL0]\n",
       "Index: []"
      ]
     },
     "execution_count": 134,
     "metadata": {},
     "output_type": "execute_result"
    }
   ],
   "source": [
    "df[df.N > 2]"
   ]
  },
  {
   "cell_type": "code",
   "execution_count": null,
   "metadata": {},
   "outputs": [],
   "source": []
  }
 ],
 "metadata": {
  "kernelspec": {
   "display_name": "Python 3",
   "language": "python",
   "name": "python3"
  },
  "language_info": {
   "codemirror_mode": {
    "name": "ipython",
    "version": 3
   },
   "file_extension": ".py",
   "mimetype": "text/x-python",
   "name": "python",
   "nbconvert_exporter": "python",
   "pygments_lexer": "ipython3",
   "version": "3.6.8"
  }
 },
 "nbformat": 4,
 "nbformat_minor": 2
}
